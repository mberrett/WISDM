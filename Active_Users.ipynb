{
 "cells": [
  {
   "cell_type": "markdown",
   "metadata": {},
   "source": [
    "# Practice"
   ]
  },
  {
   "cell_type": "code",
   "execution_count": 5,
   "metadata": {
    "collapsed": false
   },
   "outputs": [],
   "source": [
    "from urllib.request import urlopen\n",
    "from bs4 import BeautifulSoup\n",
    "import re\n",
    "import os\n",
    "import numpy as np\n",
    "import nltk \n",
    "import pandas as pd"
   ]
  },
  {
   "cell_type": "code",
   "execution_count": 6,
   "metadata": {
    "collapsed": true
   },
   "outputs": [],
   "source": [
    "path = \"/Users/MatiasBerretta/Documents/New_York/Fordham/Lab/Practice/Practice_Files/\""
   ]
  },
  {
   "cell_type": "code",
   "execution_count": 7,
   "metadata": {
    "collapsed": true
   },
   "outputs": [],
   "source": [
    "path_t = \"/Users/MatiasBerretta/Documents/New_York/Fordham/Lab/Practice/Practice_Clean/\""
   ]
  },
  {
   "cell_type": "markdown",
   "metadata": {},
   "source": [
    "# HTML Parser"
   ]
  },
  {
   "cell_type": "code",
   "execution_count": 8,
   "metadata": {
    "collapsed": true
   },
   "outputs": [],
   "source": [
    "def parser(txt_file):\n",
    "    fhandle = open(txt_file, encoding=\"utf-8\", errors=\"ignore\")\n",
    "    soup = BeautifulSoup(fhandle, 'html.parser')\n",
    "    clean = soup.text.strip()\n",
    "    \n",
    "    return clean"
   ]
  },
  {
   "cell_type": "markdown",
   "metadata": {},
   "source": [
    "# Save Clean Text to New Folder"
   ]
  },
  {
   "cell_type": "markdown",
   "metadata": {
    "collapsed": false
   },
   "source": [
    "for file in os.listdir(path):\n",
    "    clean_text = parser(path + file)\n",
    "    #print(clean_text)\n",
    "    with open(path_t + file, 'w') as out:\n",
    "        out.write(clean_text)"
   ]
  },
  {
   "cell_type": "markdown",
   "metadata": {},
   "source": [
    "# Sift through Contents of Clean Text"
   ]
  },
  {
   "cell_type": "code",
   "execution_count": 48,
   "metadata": {
    "collapsed": false
   },
   "outputs": [],
   "source": [
    "links = []\n",
    "dates = []\n",
    "words = []\n",
    "buyers = []\n",
    "sellers = []\n",
    "\n",
    "\n",
    "for file in os.listdir(path_t):\n",
    "    fhand = open(path_t + file, encoding=\"utf-8\", errors=\"ignore\")\n",
    "    for i in fhand:\n",
    "        i = i.rstrip()\n",
    "        \n",
    "        # Links\n",
    "        \n",
    "        l = file\n",
    "        if (l != '.DS_Store') & (l not in links):\n",
    "                links.append(l)\n",
    "        \n",
    "        # Dates\n",
    "        \n",
    "        d = re.match('^Date: ([^\\.]+)', i)\n",
    "        if d == None:\n",
    "            d = None\n",
    "        else:\n",
    "            dates.append(d.group(1))\n",
    "            \n",
    "        # Buyer\n",
    "        b = re.match('^Buyer: ([^\\.]+)', i)\n",
    "        if b == None:\n",
    "            b = None\n",
    "        else:\n",
    "            buyers.append(b.group(1))\n",
    "            \n",
    "        # Seller\n",
    "        s = re.match('^Seller: ([^\\.]+)', i)\n",
    "        if s == None:\n",
    "            s = None\n",
    "        else:\n",
    "            sellers.append(s.group(1))    \n",
    "            \n",
    "            \n",
    "        # Words\n",
    "        \n",
    "        w = re.match('((?!Seller|Buyer|Date)\\w.+)', i)\n",
    "        if w == None:\n",
    "            w = None\n",
    "        else:\n",
    "            words.append(w.group(1))\n",
    "\n",
    "            \n",
    " "
   ]
  },
  {
   "cell_type": "code",
   "execution_count": 49,
   "metadata": {
    "collapsed": false
   },
   "outputs": [
    {
     "data": {
      "text/plain": [
       "['Hello', 'my name', 'is Mati']"
      ]
     },
     "execution_count": 49,
     "metadata": {},
     "output_type": "execute_result"
    }
   ],
   "source": [
    "words"
   ]
  },
  {
   "cell_type": "code",
   "execution_count": 21,
   "metadata": {
    "collapsed": false
   },
   "outputs": [
    {
     "data": {
      "text/plain": [
       "['July 1st 1993', 'July 2nd 1993', 'July 20th 1993']"
      ]
     },
     "execution_count": 21,
     "metadata": {},
     "output_type": "execute_result"
    }
   ],
   "source": [
    "dates"
   ]
  },
  {
   "cell_type": "code",
   "execution_count": 22,
   "metadata": {
    "collapsed": false
   },
   "outputs": [
    {
     "data": {
      "text/plain": [
       "['1.txt', '2.txt', '3.txt']"
      ]
     },
     "execution_count": 22,
     "metadata": {},
     "output_type": "execute_result"
    }
   ],
   "source": [
    "links"
   ]
  },
  {
   "cell_type": "code",
   "execution_count": 23,
   "metadata": {
    "collapsed": false
   },
   "outputs": [
    {
     "data": {
      "text/plain": [
       "['Boy', 'Claire', 'Kurds']"
      ]
     },
     "execution_count": 23,
     "metadata": {},
     "output_type": "execute_result"
    }
   ],
   "source": [
    "buyers"
   ]
  },
  {
   "cell_type": "code",
   "execution_count": 24,
   "metadata": {
    "collapsed": false
   },
   "outputs": [
    {
     "data": {
      "text/plain": [
       "['Bear', 'Jamie', 'USA']"
      ]
     },
     "execution_count": 24,
     "metadata": {},
     "output_type": "execute_result"
    }
   ],
   "source": [
    "sellers"
   ]
  },
  {
   "cell_type": "markdown",
   "metadata": {},
   "source": [
    "# Dummy Text DataFrame"
   ]
  },
  {
   "cell_type": "code",
   "execution_count": 56,
   "metadata": {
    "collapsed": false
   },
   "outputs": [
    {
     "data": {
      "text/html": [
       "<div>\n",
       "<table border=\"1\" class=\"dataframe\">\n",
       "  <thead>\n",
       "    <tr style=\"text-align: right;\">\n",
       "      <th></th>\n",
       "      <th>buyer</th>\n",
       "      <th>content</th>\n",
       "      <th>dates</th>\n",
       "      <th>file_name</th>\n",
       "      <th>seller</th>\n",
       "    </tr>\n",
       "  </thead>\n",
       "  <tbody>\n",
       "    <tr>\n",
       "      <th>0</th>\n",
       "      <td>Boy</td>\n",
       "      <td>Hello</td>\n",
       "      <td>July 1st 1993</td>\n",
       "      <td>1.txt</td>\n",
       "      <td>Bear</td>\n",
       "    </tr>\n",
       "    <tr>\n",
       "      <th>1</th>\n",
       "      <td>Claire</td>\n",
       "      <td>my name</td>\n",
       "      <td>July 2nd 1993</td>\n",
       "      <td>2.txt</td>\n",
       "      <td>Jamie</td>\n",
       "    </tr>\n",
       "    <tr>\n",
       "      <th>2</th>\n",
       "      <td>Kurds</td>\n",
       "      <td>is Mati</td>\n",
       "      <td>July 20th 1993</td>\n",
       "      <td>3.txt</td>\n",
       "      <td>USA</td>\n",
       "    </tr>\n",
       "  </tbody>\n",
       "</table>\n",
       "</div>"
      ],
      "text/plain": [
       "    buyer  content           dates file_name seller\n",
       "0     Boy    Hello   July 1st 1993     1.txt   Bear\n",
       "1  Claire  my name   July 2nd 1993     2.txt  Jamie\n",
       "2   Kurds  is Mati  July 20th 1993     3.txt    USA"
      ]
     },
     "execution_count": 56,
     "metadata": {},
     "output_type": "execute_result"
    }
   ],
   "source": [
    "pd.DataFrame({'file_name':links,'dates':dates, 'buyer':buyers, 'seller':sellers,'content':words})"
   ]
  },
  {
   "cell_type": "code",
   "execution_count": null,
   "metadata": {
    "collapsed": true
   },
   "outputs": [],
   "source": []
  },
  {
   "cell_type": "code",
   "execution_count": null,
   "metadata": {
    "collapsed": true
   },
   "outputs": [],
   "source": []
  }
 ],
 "metadata": {
  "kernelspec": {
   "display_name": "Python 3",
   "language": "python",
   "name": "python3"
  },
  "language_info": {
   "codemirror_mode": {
    "name": "ipython",
    "version": 3
   },
   "file_extension": ".py",
   "mimetype": "text/x-python",
   "name": "python",
   "nbconvert_exporter": "python",
   "pygments_lexer": "ipython3",
   "version": "3.6.0"
  }
 },
 "nbformat": 4,
 "nbformat_minor": 2
}
